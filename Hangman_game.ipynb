{
  "nbformat": 4,
  "nbformat_minor": 0,
  "metadata": {
    "colab": {
      "provenance": [],
      "include_colab_link": true
    },
    "kernelspec": {
      "name": "python3",
      "display_name": "Python 3"
    },
    "language_info": {
      "name": "python"
    }
  },
  "cells": [
    {
      "cell_type": "markdown",
      "metadata": {
        "id": "view-in-github",
        "colab_type": "text"
      },
      "source": [
        "<a href=\"https://colab.research.google.com/github/vinit-p1/getting_into_python/blob/main/Hangman_game.ipynb\" target=\"_parent\"><img src=\"https://colab.research.google.com/assets/colab-badge.svg\" alt=\"Open In Colab\"/></a>"
      ]
    },
    {
      "cell_type": "markdown",
      "source": [
        "Q1. Create  a **Game class** with a number_of_players field,and a method play() to  display some string when the game has started. Make sure  that  the  method should  not  be  modified  (a  protected method). Create  a **Hangman class**  that  inherits  from  the Gameclass  and will  allow  you  to  play  a  hangman  game  where  the  player  has  to guess a word by entering individual letters. Hangman  has 2  players: one  person  writes  a  word  to  guess,  andsecond one guesses letters.\n",
        "\n",
        "The  game  is  to  allow  you  to  choose  the  level  of  difficulty (beginner, intermediate, advanced) and depending on the selected level,  the  available  number  of  incorrectly  guessed  letters  is  to  be smaller. For example, for the beginner level, the player can make 8 mistakes, the intermediate 5 times, and the advanced 3 times.In addition, remember to handle exceptions, if, for example, what the  player  typed  in  the  terminal  is  outside  the  acceptable  list  of characters."
      ],
      "metadata": {
        "id": "Pku6rjJn1BQs"
      }
    },
    {
      "cell_type": "code",
      "source": [
        "\n",
        "import random\n",
        "import getpass\n",
        "\n",
        "class Game:\n",
        "    def __init__(self, number_of_players):\n",
        "        self.number_of_players = number_of_players\n",
        "\n",
        "    def play(self):\n",
        "        self._start_game()\n",
        "\n",
        "    def _start_game(self):\n",
        "        print(\"The game has started.\")\n",
        "\n",
        "\n",
        "class Hangman(Game):\n",
        "    def __init__(self):\n",
        "        super().__init__(number_of_players=2)\n",
        "        self.word = ''\n",
        "        self.guessed_letters = \"\"\n",
        "        self.allowed_mistakes = 8\n",
        "        self.string = \", \"\n",
        "\n",
        "    def play(self):\n",
        "        self._start_game()\n",
        "        self._set_difficulty()\n",
        "        self._get_word()\n",
        "        self._play_game()\n",
        "\n",
        "    def _start_game(self):\n",
        "        print(\"Welcome to Hangman!\")\n",
        "        super()._start_game()\n",
        "\n",
        "    def _set_difficulty(self):\n",
        "        print(\"Choose your level of difficulty(1/2/3): \\n 1. beginner\\n 2. intermediate\\n 3. advanced \")\n",
        "        while True:\n",
        "            self.level = int(input())\n",
        "            if self.level in [1,2,3]:\n",
        "                break\n",
        "            else:\n",
        "                print(\"Invalid difficulty level. Please choose \\n 1. beginner\\n 2. intermediate\\n 3. advanced (input in number 1/2/3)\")\n",
        "\n",
        "        if self.level == 1:\n",
        "            self.allowed_mistakes = 8\n",
        "        elif self.level == 2:\n",
        "            self.allowed_mistakes = 5\n",
        "        else:\n",
        "            self.allowed_mistakes = 3\n",
        "\n",
        "    def _get_word(self):\n",
        "        print(\"Player 1, please enter the word to guess: \")\n",
        "        while True:\n",
        "            self.word = getpass.getpass(prompt=\"Word: \").lower()\n",
        "            if self.word.isalpha():\n",
        "                break\n",
        "            else:\n",
        "                print(\"Invalid input. Please enter only alphabetical characters.\")\n",
        "\n",
        "    def _play_game(self):\n",
        "      print(\"The word to guess has {} letters.\".format(len(self.word)))\n",
        "\n",
        "      #looping till the player has failed more than the level he selected\n",
        "      while self.allowed_mistakes > 0:\n",
        "\n",
        "        guess = input(\"Enter a letter \").lower()\n",
        "        if guess.isalpha() and len(guess) == 1:\n",
        "\n",
        "          if guess in self.guessed_letters:\n",
        "            print(f\"already guessed. you have guessed {self.string.join(self.guessed_letters)} continue guessing \")\n",
        "            continue\n",
        "          else:\n",
        "            if guess in self.word:\n",
        "              print(f\"Correct! There is one or more {guess} in the word\")\n",
        "\n",
        "            else:\n",
        "              self.allowed_mistakes -= 1\n",
        "              print(\"Incorrect. You have {} attempts left.\".format(self.allowed_mistakes))\n",
        "\n",
        "            self.guessed_letters += guess\n",
        "            #print(self.guessed_letters)\n",
        "            wrongLetterCount = 0\n",
        "\n",
        "            for letter in self.word:\n",
        "                if letter in self.guessed_letters:\n",
        "                  print(f\"{letter}\", end=\"\")\n",
        "                else:\n",
        "                  print(\" _ \",end=\"\")\n",
        "                  wrongLetterCount += 1\n",
        "\n",
        "            print(\"\")\n",
        "            print(f\"You have guessed: {self.string.join(self.guessed_letters)}\")\n",
        "            if wrongLetterCount == 0:\n",
        "                print(f\"Congratulations the word was: {self.word}. You won!\")\n",
        "                break\n",
        "        else:\n",
        "            print(\"Invalid input. Please enter only one alphabetical character.\")\n",
        "\n",
        "      else:\n",
        "          print(\"Sorry, you didn't guess the word. The word was {}.\".format(self.word))\n",
        "\n"
      ],
      "metadata": {
        "id": "JKNgnOW3Vzyi"
      },
      "execution_count": null,
      "outputs": []
    },
    {
      "cell_type": "code",
      "source": [
        "hangman = Hangman()\n",
        "hangman.play()\n"
      ],
      "metadata": {
        "colab": {
          "base_uri": "https://localhost:8080/"
        },
        "id": "nlu2NpXgV17k",
        "outputId": "b07681a1-ce51-4842-f09b-2191e55795cf"
      },
      "execution_count": null,
      "outputs": [
        {
          "output_type": "stream",
          "name": "stdout",
          "text": [
            "Welcome to Hangman!\n",
            "The game has started.\n",
            "Choose your level of difficulty(1/2/3): \n",
            " 1. beginner\n",
            " 2. intermediate\n",
            " 3. advanced \n",
            "2\n",
            "Player 1, please enter the word to guess: \n",
            "Word: ··········\n",
            "The word to guess has 6 letters.\n",
            "Enter a letter p\n",
            "Correct! There is one or more p in the word\n",
            "p _  _  _  _  _ \n",
            "You have guessed: p\n",
            "Enter a letter g\n",
            "Incorrect. You have 4 attempts left.\n",
            "p _  _  _  _  _ \n",
            "You have guessed: p, g\n",
            "Enter a letter y\n",
            "Correct! There is one or more y in the word\n",
            "py _  _  _  _ \n",
            "You have guessed: p, g, y\n",
            "Enter a letter t\n",
            "Correct! There is one or more t in the word\n",
            "pyt _  _  _ \n",
            "You have guessed: p, g, y, t\n",
            "Enter a letter h\n",
            "Correct! There is one or more h in the word\n",
            "pyth _  _ \n",
            "You have guessed: p, g, y, t, h\n",
            "Enter a letter o\n",
            "Correct! There is one or more o in the word\n",
            "pytho _ \n",
            "You have guessed: p, g, y, t, h, o\n",
            "Enter a letter n\n",
            "Correct! There is one or more n in the word\n",
            "python\n",
            "You have guessed: p, g, y, t, h, o, n\n",
            "Congratulations the word was: python. You won!\n"
          ]
        }
      ]
    },
    {
      "cell_type": "markdown",
      "source": [
        "**Q2. Write a python program to square or cube each number in a given array of  integers,using lambda(the  choice  is  to  be  made  by  the user by using methods allowing making input to the console.**"
      ],
      "metadata": {
        "id": "neSqgcd7vfvb"
      }
    },
    {
      "cell_type": "code",
      "execution_count": null,
      "metadata": {
        "id": "zhn8-FOEvU0s"
      },
      "outputs": [],
      "source": [
        "array= [1,2,3,4,5,6,7,8,9]\n",
        "def update(n):\n",
        "  return list(map(lambda array: array ** n, array))"
      ]
    },
    {
      "cell_type": "code",
      "source": [
        "n= int(input('Insert 2 if you want to double the array or 3 if you want to triple '))\n",
        "print(update(n))"
      ],
      "metadata": {
        "colab": {
          "base_uri": "https://localhost:8080/"
        },
        "id": "TuqtoBQm32Ga",
        "outputId": "c47c8089-dd1e-437a-ef10-3f81dbdd25b4"
      },
      "execution_count": null,
      "outputs": [
        {
          "output_type": "stream",
          "name": "stdout",
          "text": [
            "Insert 2 if you want to double the array or 3 if you want to triple 3\n",
            "[1, 8, 27, 64, 125, 216, 343, 512, 729]\n"
          ]
        }
      ]
    }
  ]
}