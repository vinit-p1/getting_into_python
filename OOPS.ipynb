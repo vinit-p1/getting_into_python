{
  "nbformat": 4,
  "nbformat_minor": 0,
  "metadata": {
    "colab": {
      "provenance": [],
      "authorship_tag": "ABX9TyPuMjjH/B/5eWV8jRvJ7Tt/"
    },
    "kernelspec": {
      "name": "python3",
      "display_name": "Python 3"
    },
    "language_info": {
      "name": "python"
    }
  },
  "cells": [
    {
      "cell_type": "markdown",
      "source": [],
      "metadata": {
        "id": "y7dOmFpkA6uI"
      }
    },
    {
      "cell_type": "markdown",
      "source": [
        "a) Create classes: Dog and Cat, both will inherit from the Animal\n",
        "class.\n",
        "\n",
        "b) Sequentially to Dog and Cat class add:\n",
        "• woof() method, returning string: “woof woof”\n",
        "• purr() method, returning string: “purr”\n",
        "\n",
        "c) Add to Animal class the following attributes:\n",
        "• isAlive [boolean]\n",
        "• gender [selectable: male/female]\n",
        "• genus [string, computable attribute]\n",
        "\n",
        "d) Add to Animal class a function breed(partner). This method is\n",
        "supposed to return an instance of the animal class, of the same\n",
        "type as the instance in which we call the breed method, provided\n",
        "that the instance for which we call the method:\n",
        "\n",
        "• partners are of different gender\n",
        "\n",
        "• partners are of the same genus\n",
        "\n",
        "e) Create an instance of the Dog and Cat classes using the breed()\n",
        "method. To the breed() method add an exception catching\n",
        "instruction that will print the “attribute not found” string if the\n",
        "partner specified in the parameter does not have the necessary\n",
        "attributes."
      ],
      "metadata": {
        "id": "uKVAU0-Cv-e2"
      }
    },
    {
      "cell_type": "code",
      "execution_count": null,
      "metadata": {
        "id": "fs7UKZAm8Yqg"
      },
      "outputs": [],
      "source": [
        "import random\n",
        "class Animal:\n",
        "  def __init__(self, isAlive, gender, genus):\n",
        "    self._isAlive = isAlive\n",
        "    self.gender = gender\n",
        "    self._genus = genus\n",
        "\n",
        "  @property\n",
        "  def genus(self):\n",
        "    return self._genus\n",
        "\n",
        "  @genus.setter\n",
        "  def genus(self,value):\n",
        "    self._genus = str(value)\n",
        "\n",
        "  def breed(self, partner):\n",
        "    if self._genus == partner._genus and self.gender != partner.gender:\n",
        "      gender = \"male\" if random.random() < 0.5 else \"female\"\n",
        "      return type(self)(isAlive=True, gender=gender, genus=self.genus)\n",
        "    else:\n",
        "      raise ValueError(\"The breeding is not possible\")\n",
        "\n",
        "\n",
        "class Dog(Animal):\n",
        "  def woof(self):\n",
        "    return \"woof woof\"\n",
        "\n",
        "class Cat(Animal):\n",
        "  def purr(self):\n",
        "    return \"purr purr\"\n"
      ]
    },
    {
      "cell_type": "markdown",
      "source": [
        "Working case (same breed) down below"
      ],
      "metadata": {
        "id": "glZ_98FsUcKd"
      }
    },
    {
      "cell_type": "code",
      "source": [
        "dog1 = Dog(isAlive=True, gender=\"male\", genus=\"golden retriever\")\n",
        "dog2 = Dog(isAlive=True, gender=\"female\", genus=\"golden retriever\")\n",
        "\n",
        "try:\n",
        "    dog3 = dog1.breed(dog2)\n",
        "    print(\"New dog was born!\")\n",
        "    print(dog3.gender)\n",
        "    print(dog3.genus)\n",
        "    print(dog3.woof())\n",
        "except ValueError:\n",
        "    print(\"Cannot breed with given partner\")\n",
        "\n",
        "print()\n",
        "cat1 = Cat(isAlive=True, gender=\"male\", genus = \"Birman\")\n",
        "cat2 = Cat(isAlive=True, gender=\"female\", genus = \"Birman\")\n",
        "\n",
        "try:\n",
        "    cat3 = cat1.breed(cat2)\n",
        "    print(\"New cat was born!\")\n",
        "    print(cat3.gender)\n",
        "    print(cat3.genus)\n",
        "    print(cat3.purr())\n",
        "except ValueError:\n",
        "    print(\"Cannot breed with given partner\")\n"
      ],
      "metadata": {
        "colab": {
          "base_uri": "https://localhost:8080/"
        },
        "id": "ovICu2ngIQ2t",
        "outputId": "8826f651-73c4-48df-9f16-636f5f475543"
      },
      "execution_count": null,
      "outputs": [
        {
          "output_type": "stream",
          "name": "stdout",
          "text": [
            "New dog was born!\n",
            "male\n",
            "golden retriever\n",
            "woof woof\n",
            "\n",
            "New cat was born!\n",
            "female\n",
            "Birman\n",
            "purr purr\n"
          ]
        }
      ]
    },
    {
      "cell_type": "markdown",
      "source": [
        "Non working case"
      ],
      "metadata": {
        "id": "dcCZMHoAVANG"
      }
    },
    {
      "cell_type": "code",
      "source": [
        "cat1 = Cat(isAlive=True, gender=\"male\", genus = \"Abyssinian\")\n",
        "cat2 = Cat(isAlive=True, gender=\"female\", genus = \"Birman\")\n",
        "\n",
        "try:\n",
        "    cat3 = cat1.breed(cat2)\n",
        "    print(\"New cat created!\")\n",
        "    print(cat3.gender)\n",
        "    print(cat3.genus)\n",
        "    print(cat3.purr())\n",
        "except ValueError:\n",
        "    print(\"Cannot breed with given partner\")"
      ],
      "metadata": {
        "colab": {
          "base_uri": "https://localhost:8080/"
        },
        "id": "nSfaaOFOOGF7",
        "outputId": "a6dd82b7-9a19-441c-fac6-824baa02544e"
      },
      "execution_count": null,
      "outputs": [
        {
          "output_type": "stream",
          "name": "stdout",
          "text": [
            "Cannot breed with given partner\n"
          ]
        }
      ]
    },
    {
      "cell_type": "markdown",
      "source": [
        "f) Create class Worker and define its attributes to be able to store\n",
        "data created on the basis of a table presented below.\n",
        "\n",
        "![Screenshot 2023-03-21 161722.jpg](data:image/jpeg;base64,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)\n",
        "\n",
        "\n",
        "g) Create functions to calculate:\n",
        "\n",
        "• average salary in the company [arguments: array of workers]\n",
        "\n",
        "• compare the average earnings of people younger than provided\n",
        "age compared to workers older than provided age [arguments:\n",
        "array of workers, age"
      ],
      "metadata": {
        "id": "cLo4Wu6-uLSd"
      }
    },
    {
      "cell_type": "code",
      "source": [
        "class Worker:\n",
        "  def __init__(self, num, name, age, sal):\n",
        "    self.num= num\n",
        "    self.name= name\n",
        "    self.age= age\n",
        "    self.sal= sal\n",
        "\n",
        "  def avg(workers):\n",
        "    total = sum(person.sal for person in workers)\n",
        "    return total / len(workers)\n",
        "\n",
        "  def compare(workers, age):\n",
        "    younger = [person for person in workers if person.age < age]\n",
        "    older = [person for person in workers if person.age >= age]\n",
        "    avgyounger = Worker.avg(younger)\n",
        "    avgolder = Worker.avg(older)\n",
        "    return avgyounger, avgolder"
      ],
      "metadata": {
        "id": "XD-dZlK5MBVb"
      },
      "execution_count": null,
      "outputs": []
    },
    {
      "cell_type": "code",
      "source": [
        "workers = [\n",
        "    Worker(1, 'Adam', 1983, 1500),\n",
        "    Worker(2, 'Anna', 1981, 1700),\n",
        "    Worker(3, 'Błażej', 1990, 1800),\n",
        "    Worker(4, 'Beata', 1992, 1600),\n",
        "    Worker(5, 'Czesław', 1980, 2000),\n",
        "    Worker(6, 'Cecylia', 1983, 2100),\n",
        "    Worker(7, 'Daniel', 1976, 1900),\n",
        "]"
      ],
      "metadata": {
        "id": "t2Ur5ldWILWe"
      },
      "execution_count": null,
      "outputs": []
    },
    {
      "cell_type": "code",
      "source": [
        "avg_salary = Worker.avg(workers)\n",
        "print(f\"Average salary in the company: {avg_salary:.2f}\")\n",
        "\n",
        "avg_younger, avg_older = Worker.compare(workers, 1990)\n",
        "print(f\"Average salary of workers younger than 1990: {avg_younger:.2f}\")\n",
        "print(f\"Average salary of workers older than 1990: {avg_older:.2f}\")\n"
      ],
      "metadata": {
        "colab": {
          "base_uri": "https://localhost:8080/"
        },
        "id": "PTt9IG02INY0",
        "outputId": "e560b8d6-de14-46c1-a4b1-0231a516521c"
      },
      "execution_count": null,
      "outputs": [
        {
          "output_type": "stream",
          "name": "stdout",
          "text": [
            "Average salary in the company: 1800.00\n",
            "Average salary of workers younger than 1990: 1840.00\n",
            "Average salary of workers older than 1990: 1700.00\n"
          ]
        }
      ]
    }
  ]
}